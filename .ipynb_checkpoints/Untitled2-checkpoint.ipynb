{
 "cells": [
  {
   "cell_type": "code",
   "execution_count": 5,
   "metadata": {},
   "outputs": [],
   "source": [
    "from Tkinter import *\n",
    "import ttk as ttk\n",
    "import graphlab"
   ]
  },
  {
   "cell_type": "code",
   "execution_count": 6,
   "metadata": {
    "scrolled": false
   },
   "outputs": [
    {
     "name": "stdout",
     "output_type": "stream",
     "text": [
      "This non-commercial license of GraphLab Create for academic use is assigned to gargeeshah@gmail.com and will expire on May 07, 2021.\n"
     ]
    },
    {
     "name": "stderr",
     "output_type": "stream",
     "text": [
      "[INFO] graphlab.cython.cy_server: GraphLab Create v2.1 started. Logging: C:\\Users\\HP\\AppData\\Local\\Temp\\graphlab_server_1588775319.log.0\n"
     ]
    },
    {
     "data": {
      "text/html": [
       "<pre>Starting brute force nearest neighbors model training.</pre>"
      ],
      "text/plain": [
       "Starting brute force nearest neighbors model training."
      ]
     },
     "metadata": {},
     "output_type": "display_data"
    },
    {
     "data": {
      "text/html": [
       "<pre>Starting pairwise querying.</pre>"
      ],
      "text/plain": [
       "Starting pairwise querying."
      ]
     },
     "metadata": {},
     "output_type": "display_data"
    },
    {
     "data": {
      "text/html": [
       "<pre>+--------------+---------+-------------+--------------+</pre>"
      ],
      "text/plain": [
       "+--------------+---------+-------------+--------------+"
      ]
     },
     "metadata": {},
     "output_type": "display_data"
    },
    {
     "data": {
      "text/html": [
       "<pre>| Query points | # Pairs | % Complete. | Elapsed Time |</pre>"
      ],
      "text/plain": [
       "| Query points | # Pairs | % Complete. | Elapsed Time |"
      ]
     },
     "metadata": {},
     "output_type": "display_data"
    },
    {
     "data": {
      "text/html": [
       "<pre>+--------------+---------+-------------+--------------+</pre>"
      ],
      "text/plain": [
       "+--------------+---------+-------------+--------------+"
      ]
     },
     "metadata": {},
     "output_type": "display_data"
    },
    {
     "data": {
      "text/html": [
       "<pre>| 0            | 1       | 0.00169288  | 19.987ms     |</pre>"
      ],
      "text/plain": [
       "| 0            | 1       | 0.00169288  | 19.987ms     |"
      ]
     },
     "metadata": {},
     "output_type": "display_data"
    },
    {
     "data": {
      "text/html": [
       "<pre>| Done         |         | 100         | 321.802ms    |</pre>"
      ],
      "text/plain": [
       "| Done         |         | 100         | 321.802ms    |"
      ]
     },
     "metadata": {},
     "output_type": "display_data"
    },
    {
     "data": {
      "text/html": [
       "<pre>+--------------+---------+-------------+--------------+</pre>"
      ],
      "text/plain": [
       "+--------------+---------+-------------+--------------+"
      ]
     },
     "metadata": {},
     "output_type": "display_data"
    }
   ],
   "source": [
    "\n",
    "example = None\n",
    "def retriving(_input):\n",
    "    people = graphlab.SFrame('C:/Users/HP/OneDrive/Desktop/people_wiki.gl/')\n",
    "    people['word_count'] = graphlab.text_analytics.count_words(people['text'])\n",
    "    tfidf = graphlab.text_analytics.tf_idf(people['word_count'])\n",
    "    people['tfidf'] = tfidf\n",
    "    knn_model = graphlab.nearest_neighbors.create(people,features=['tfidf'],label='name')\n",
    "    abc = people[people['name'] == _input]\n",
    "    example = knn_model.query(abc)\n",
    "    return example\n",
    "    \n",
    "class main_window:\n",
    "\n",
    "    def __init__ (self):\n",
    "            self.tkObj = None\n",
    "            self.stringEntry1 = None\n",
    "            self.frame1 = None\n",
    "            self.frame2 = None\n",
    "            self.frame3 = None\n",
    "            self.frame4 = None\n",
    "            self.canvas1 = None\n",
    "            self.invalidMsg = None\n",
    "\n",
    "    def generate_main_window(self):\n",
    "\n",
    "            if(self.tkObj == None):\n",
    "                self.tkObj = Tk()\n",
    "                self.stringEntry1 = StringVar()\n",
    "                self.frame1 = Frame(self.tkObj)\n",
    "                self.frame1.pack(side=TOP,fill=X)\n",
    "                self.frame2 = Frame(self.tkObj)\n",
    "                self.frame2.pack(side=TOP,fill=X)\n",
    "                self.frame3 = Frame(self.tkObj)\n",
    "                self.frame3.pack(side=LEFT,fill=X)\n",
    "                self.frame4 = Frame(self.tkObj)\n",
    "                self.frame4.pack(side=LEFT,fill=BOTH)\n",
    "                self.invalidMsg = Toplevel()\n",
    "                self.invalidMsg.withdraw()\n",
    "\n",
    "            #self.tkObj.call('encoding', 'system', 'utf-8')\n",
    "            x_1 = (self.tkObj.winfo_screenwidth()/2) - 200\n",
    "            y_1 = (self.tkObj.winfo_screenheight()/2) - 150\n",
    "\n",
    "            self.invalidMsg.title('Invalid Entry')\n",
    "            self.invalidMsg.geometry(\"%dx%d+%d+%d\" % (245,125,x_1,y_1))\n",
    "            self.invalidMsg.resizable(width=False,height=False)\n",
    "\n",
    "            label1_invalid = Label(self.invalidMsg,text=\"Invalid Input!\",font=\"arial 15 bold\",height=1)\n",
    "            label1_invalid.pack(side=TOP)\n",
    "            button1_invalid = Button(self.invalidMsg,text=\"Back\",font=\"arial 10 bold\",width=10,command=self.invalidMsgDisplay)\n",
    "            button1_invalid.pack(side=TOP)\n",
    "            self.invalidMsg.protocol(\"WM_DELETE_WINDOW\",self.invalidMsgDisplay)\n",
    "\n",
    "            x_2 = (self.tkObj.winfo_screenwidth()/2) - 550\n",
    "            y_2 = (self.tkObj.winfo_screenheight()/2) - 370\n",
    "            self.tkObj.title('Retrieving data')\n",
    "            self.tkObj.geometry(\"%dx%d+%d+%d\" % (1050,650,x_2,y_2))\n",
    "            self.tkObj.resizable(width=False,height=False)\n",
    "\n",
    "            label1 = Label(self.frame1,text=\"||Retrieving data from wikipedia||\",relief=\"solid\",font=\"consolas 15 bold\",height=1)\n",
    "            label1.pack(side=TOP,fill=X,ipadx=189,ipady=45)\n",
    "\n",
    "            entry1 = Entry(self.frame2,textvariable=self.stringEntry1,width=40,relief=\"ridge\",font=\"verdana 15\")\n",
    "            entry1.pack(side=LEFT,ipadx=100,pady=30,padx=80)\n",
    "\n",
    "            button1 = Button(self.frame2,text=\"Search\",relief=\"ridge\",font=\"verdana 10 bold\",width=10,command=self.analysisOfTwitter)\n",
    "            button1.pack(side=LEFT)\n",
    "\n",
    "            self.frame3.grid_rowconfigure(0, weight=1)\n",
    "            self.frame3.grid_columnconfigure(0, weight=1)\n",
    "            \n",
    "            self.tree = ttk.Treeview(self.frame3,columns=(\"query_label\",\"reference_label\",\"distance\",\"rank\"),selectmode=\"extended\",height=60)\n",
    "            self.tree.grid(row=0,column=0,rowspan=2,columnspan=3,sticky=N+W,padx=30)\n",
    "\n",
    "            self.tree.heading('#0',text=\"sr no.\",anchor=W)\n",
    "            self.tree.heading('#1',text=\"query_label\",anchor=W)\n",
    "            self.tree.heading('#2',text=\"reference_label\",anchor=W)\n",
    "            self.tree.heading('#3',text=\"distance\",anchor=W)\n",
    "            self.tree.heading('#4',text=\"rank\",anchor=W)\n",
    "            \n",
    "    def analysisOfTwitter(self):\n",
    "        _input = self.stringEntry1.get()\n",
    "        if(_input == \"\" or _input == None):\n",
    "            self.tkObj.withdraw()\n",
    "            self.invalidMsg.deiconify()\n",
    "            return\n",
    "        for i in self.tree.get_children():\n",
    "            self.tree.delete(i)\n",
    "        catch = retriving(_input)\n",
    "        count = 1\n",
    "        for x in catch:\n",
    "            self.tree.insert('', 'end', text=str(count),values=(x['query_label'],x['reference_label'],x['distance'],x['rank']))\n",
    "            count = count + 1\n",
    "    def invalidMsgDisplay(self):\n",
    "        self.invalidMsg.withdraw()\n",
    "        self.tkObj.deiconify()\n",
    "\n",
    "if __name__ == \"__main__\":\n",
    "\n",
    "    execute = main_window()\n",
    "    execute.generate_main_window()\n",
    "\n",
    "    execute.tkObj.mainloop()\n"
   ]
  },
  {
   "cell_type": "code",
   "execution_count": null,
   "metadata": {},
   "outputs": [],
   "source": []
  },
  {
   "cell_type": "code",
   "execution_count": null,
   "metadata": {},
   "outputs": [],
   "source": []
  }
 ],
 "metadata": {
  "kernelspec": {
   "display_name": "Python 2",
   "language": "python",
   "name": "python2"
  },
  "language_info": {
   "codemirror_mode": {
    "name": "ipython",
    "version": 2
   },
   "file_extension": ".py",
   "mimetype": "text/x-python",
   "name": "python",
   "nbconvert_exporter": "python",
   "pygments_lexer": "ipython2",
   "version": "2.7.15"
  }
 },
 "nbformat": 4,
 "nbformat_minor": 2
}
